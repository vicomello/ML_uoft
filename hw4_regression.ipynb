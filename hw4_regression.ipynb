{
  "nbformat": 4,
  "nbformat_minor": 0,
  "metadata": {
    "colab": {
      "name": "hw4-regression.ipynb",
      "provenance": [],
      "collapsed_sections": []
    },
    "kernelspec": {
      "name": "python3",
      "display_name": "Python 3"
    },
    "language_info": {
      "name": "python"
    }
  },
  "cells": [
    {
      "cell_type": "code",
      "execution_count": 140,
      "metadata": {
        "colab": {
          "base_uri": "https://localhost:8080/"
        },
        "id": "Ecm9L7v-FqN7",
        "outputId": "3a0e2ffb-622b-46fd-c8cf-69757ba697e0"
      },
      "outputs": [
        {
          "output_type": "stream",
          "name": "stdout",
          "text": [
            "Mounted at /content/drive\n"
          ]
        }
      ],
      "source": [
        "import os\n",
        "from google.colab import drive\n",
        "\n",
        "import numpy as np\n",
        "import pandas as pd\n",
        "import matplotlib.pyplot as plt\n",
        "\n",
        "from sklearn.linear_model import SGDRegressor\n",
        "from sklearn.model_selection import GridSearchCV\n",
        "from sklearn.metrics import mean_squared_error, mean_absolute_error, r2_score\n",
        "from sklearn.svm import SVR\n",
        "from sklearn import tree\n",
        "from sklearn.ensemble import RandomForestRegressor\n",
        "\n",
        "drive.mount(\"/content/drive\", force_remount=True)\n",
        "os.chdir('/content/drive/MyDrive/Colab Notebooks')\n",
        "\n",
        "seed = 1234"
      ]
    },
    {
      "cell_type": "markdown",
      "source": [
        "Dataset imported: this dataset is from a survey I ran in 2020. The survey asked participants about their psychological states (e.g.: well-being, loneliness, affect) and social media use habits (e.g.: which social media sites, how many hours of usage, etc).\n",
        "\n",
        "We have 297 observations and 73 variables. \n",
        "\n",
        "I will use it to predict well-being (sats_w_life) from the other variables. "
      ],
      "metadata": {
        "id": "ELBB8MkVmr6I"
      }
    },
    {
      "cell_type": "markdown",
      "source": [
        ""
      ],
      "metadata": {
        "id": "BRPB5k7RqEJv"
      }
    },
    {
      "cell_type": "code",
      "source": [
        "df = pd.read_csv(\"socialmedia.csv\")\n",
        "df.head(5)\n",
        "\n",
        "# changing some columns that caused problem later on the code\n",
        "df.drop('relationship_stalked', inplace=True, axis=1)\n",
        "df['Sex'] = np.where(df['Sex'] == 'Female', 1, 0)\n",
        "df.fillna(df.mean(), inplace=True)\n",
        "\n",
        "\n",
        "# Creating function to facilitate summary later\n",
        "\n",
        "summary = list()\n",
        "def append_summary(method_name, y_test_data, predictions_data):\n",
        "  # function to make easy append results of t test to a list\n",
        "  summary.append({\"method\": method_name, \"mean_2_error\": mean_squared_error(y_test_data, predictions_data), \"root_mean_2_error\": np.sqrt(mean_squared_error(y_test_data, predictions_data)), \"mean_abs_error\": mean_absolute_error(y_test_data, predictions_data), \"r2\": r2_score(y_test_data, predictions_data)})\n"
      ],
      "metadata": {
        "id": "cgfTZmhUF3YB"
      },
      "execution_count": 141,
      "outputs": []
    },
    {
      "cell_type": "markdown",
      "source": [
        "Separating between training and testing data.\n",
        "\n",
        "Goal is 80% training and 20% testing. "
      ],
      "metadata": {
        "id": "Pnf3JcdBq9_p"
      }
    },
    {
      "cell_type": "code",
      "source": [
        "np.random.seed(seed)\n",
        "\n",
        "random_indexes = np.random.choice(df.index.tolist(), 237, replace=False)\n",
        "print(random_indexes)\n",
        "\n",
        "training = df.loc[df.index.isin(random_indexes)]\n",
        "testing = df.loc[~df.index.isin(random_indexes)]\n",
        "\n",
        "x_train = training.loc[:, training.columns != 'sats_w_life']\n",
        "y_train = training.loc[:, training.columns == 'sats_w_life']\n",
        "\n",
        "x_test = testing.loc[:, testing.columns != 'sats_w_life']\n",
        "y_test = testing.loc[:, testing.columns == 'sats_w_life']"
      ],
      "metadata": {
        "colab": {
          "base_uri": "https://localhost:8080/"
        },
        "id": "U3zX44h5q9ls",
        "outputId": "b1841974-193b-448b-83df-0a3816ecf861"
      },
      "execution_count": 142,
      "outputs": [
        {
          "output_type": "stream",
          "name": "stdout",
          "text": [
            "[ 73 108 269 112 111 122 157 163 295 284 137 271  66  69 100   7 278 176\n",
            " 170 110 162  99  40   6  22 102 244 106 229 131 104 141 248 148 132 238\n",
            "  74 225 217  31 125 155 208 124 219 146 193 281 198 167  29  80  67 101\n",
            "  92 173 221 247 227 115  52 255  24  77  33 201 168  94 267 232 216   5\n",
            "  97  93 181  95 223  71 149  51 289  83   9 182 214 165  58  48 138  13\n",
            "  32  63 145 153 160 203  60  91 186 245  27 261  65 166  23 220 187 156\n",
            "  42 164  44  43 239 134 129 127  54 234 190 202 274 273 237 185 222  59\n",
            " 272  17  39 253 188 293  25 147 230 259 200  12  56 209 235 191  11 194\n",
            " 224 287 213  87 215  49 285 126 262 260  61 254  20 179  75   8 264 117\n",
            " 276 241  35 189   2 205 207  88  36  57  46  79 242 265 144 130 252  15\n",
            " 292 280 136 150  64 123  68  26  19 250 140 286 270 142   1 169 206 212\n",
            " 263 192 180 119 196 199  21 210 114 161  90  98 121   0 105 256 183  62\n",
            " 178 151  78  55 257 103  82   4  28  10  34 291 175 118 266 133 275 228\n",
            " 135  38 109]\n"
          ]
        }
      ]
    },
    {
      "cell_type": "markdown",
      "source": [
        "## Regression"
      ],
      "metadata": {
        "id": "TAAtERAW5V1Q"
      }
    },
    {
      "cell_type": "code",
      "source": [
        "# Copied and modified parameter grid from Dirk's\n",
        "\n",
        "param_grid = {\n",
        "    \"alpha\": [1e-07, 1e-06, 1e-05],\n",
        "    \"penalty\": [\"l2\",\"elasticnet\", \"l1\"],\n",
        "    \"eta0\": [0.03, 0.05, 0.1],\n",
        "    \"max_iter\": [500, 1000]\n",
        "}\n",
        "\n",
        "regressor = SGDRegressor(loss='squared_error',\n",
        "                         learning_rate='constant',\n",
        "                         random_state=seed)\n",
        "grid_search = GridSearchCV(regressor, param_grid)\n",
        "grid_search.fit(x_train, y_train)\n",
        "\n",
        "best_regressor = grid_search.best_estimator_"
      ],
      "metadata": {
        "id": "Oi9JOaFM5YxI"
      },
      "execution_count": null,
      "outputs": []
    },
    {
      "cell_type": "code",
      "source": [
        "predictions = best_regressor.predict(x_test)\n",
        "\n",
        "print(best_regressor)\n",
        "\n",
        "plt.scatter(y_test, predictions, marker='o', c='b')\n",
        "plt.xlabel('ground truth')\n",
        "plt.ylabel('prediction')\n",
        "plt.show()"
      ],
      "metadata": {
        "colab": {
          "base_uri": "https://localhost:8080/",
          "height": 324
        },
        "id": "JersUGwq70DP",
        "outputId": "c86003ce-ae1a-43a1-d36e-bf8898dc4bb5"
      },
      "execution_count": 144,
      "outputs": [
        {
          "output_type": "stream",
          "name": "stdout",
          "text": [
            "SGDRegressor(alpha=1e-07, eta0=0.05, learning_rate='constant', max_iter=500,\n",
            "             penalty='elasticnet', random_state=1234)\n"
          ]
        },
        {
          "output_type": "display_data",
          "data": {
            "text/plain": [
              "<Figure size 432x288 with 1 Axes>"
            ],
            "image/png": "[encoded data removed]"
          },
          "metadata": {
            "needs_background": "light"
          }
        }
      ]
    },
    {
      "cell_type": "markdown",
      "source": [
        "Performance"
      ],
      "metadata": {
        "id": "aFBHLNdD-eto"
      }
    },
    {
      "cell_type": "code",
      "source": [
        "append_summary(\"regression\", y_test, predictions)\n",
        "\n",
        "print(pd.DataFrame(summary))"
      ],
      "metadata": {
        "colab": {
          "base_uri": "https://localhost:8080/"
        },
        "id": "r0wkCRz4-HEV",
        "outputId": "9e060911-18a8-4852-9ec6-d870995bbf10"
      },
      "execution_count": 145,
      "outputs": [
        {
          "output_type": "stream",
          "name": "stdout",
          "text": [
            "       method  mean_2_error  root_mean_2_error  mean_abs_error            r2\n",
            "0  regression  1.469668e+30       1.212298e+15    1.008890e+15 -2.213948e+28\n"
          ]
        }
      ]
    },
    {
      "cell_type": "markdown",
      "source": [
        "## Random Forests"
      ],
      "metadata": {
        "id": "MKHNYYTB91oc"
      }
    },
    {
      "cell_type": "code",
      "source": [
        "param_grid = {\n",
        "    \"n_estimators\": [10, 50, 100, 150],\n",
        "    \"max_features\": [\"auto\", \"sqrt\", \"log2\"],\n",
        "    \"min_samples_split\": [3, 5, 7]\n",
        "}\n",
        "\n",
        "regressor = RandomForestRegressor(n_jobs = -1, random_state = seed)\n",
        "grid_search = GridSearchCV(regressor, param_grid)\n",
        "grid_search.fit(x_train, y_train)"
      ],
      "metadata": {
        "id": "KFHzFQJk93mx"
      },
      "execution_count": null,
      "outputs": []
    },
    {
      "cell_type": "code",
      "source": [
        "best_regressor = grid_search.best_estimator_\n",
        "\n",
        "print(best_regressor)\n",
        "\n",
        "predictions = best_regressor.predict(x_test)\n",
        "\n",
        "plt.scatter(y_test, predictions, marker='o', c='b')\n",
        "plt.xlabel('ground truth')\n",
        "plt.ylabel('prediction')\n",
        "plt.show()"
      ],
      "metadata": {
        "colab": {
          "base_uri": "https://localhost:8080/",
          "height": 313
        },
        "id": "LiQ5a_DcEhTC",
        "outputId": "a4dc787f-632a-4715-9bd8-b91425d64da9"
      },
      "execution_count": 147,
      "outputs": [
        {
          "output_type": "stream",
          "name": "stdout",
          "text": [
            "RandomForestRegressor(min_samples_split=7, n_estimators=150, n_jobs=-1,\n",
            "                      random_state=1234)\n"
          ]
        },
        {
          "output_type": "display_data",
          "data": {
            "text/plain": [
              "<Figure size 432x288 with 1 Axes>"
            ],
            "image/png": "[encoded data removed]"
          },
          "metadata": {
            "needs_background": "light"
          }
        }
      ]
    },
    {
      "cell_type": "code",
      "source": [
        "append_summary(\"random_forests\", y_test, predictions)\n",
        "print(pd.DataFrame(summary))"
      ],
      "metadata": {
        "id": "XGN5YMgiEypt",
        "colab": {
          "base_uri": "https://localhost:8080/"
        },
        "outputId": "96f9c5cd-c218-41a8-a243-772d13030609"
      },
      "execution_count": 148,
      "outputs": [
        {
          "output_type": "stream",
          "name": "stdout",
          "text": [
            "           method  mean_2_error  root_mean_2_error  mean_abs_error  \\\n",
            "0      regression  1.469668e+30       1.212298e+15    1.008890e+15   \n",
            "1  random_forests  3.001583e+01       5.478670e+00    4.153686e+00   \n",
            "\n",
            "             r2  \n",
            "0 -2.213948e+28  \n",
            "1  5.478334e-01  \n"
          ]
        }
      ]
    },
    {
      "cell_type": "markdown",
      "source": [
        "## Support Vector Regression"
      ],
      "metadata": {
        "id": "yadf5A1lFx9x"
      }
    },
    {
      "cell_type": "code",
      "source": [
        "param_grid = {\n",
        "    \"kernel\": [\"linear\", \"poly\", \"rbf\", \"sigmoid\"],\n",
        "    \"gamma\": [\"auto\", \"scale\"],\n",
        "    \"epsilon\": [0.1, 0.2, 0.3, 0.5],\n",
        "    \"C\": [1.0, 0.1]\n",
        "}\n",
        "\n",
        "regressor = SVR()\n",
        "grid_search = GridSearchCV(regressor, param_grid)\n",
        "grid_search.fit(x_train, y_train)"
      ],
      "metadata": {
        "id": "MncdyEBEF1DH"
      },
      "execution_count": null,
      "outputs": []
    },
    {
      "cell_type": "code",
      "source": [
        "best_regressor = grid_search.best_estimator_\n",
        "print(best_regressor)\n",
        "\n",
        "predictions = best_regressor.predict(x_test)\n",
        "\n",
        "plt.scatter(y_test, predictions, marker='o', c='b')\n",
        "plt.xlabel('ground truth')\n",
        "plt.ylabel('prediction')\n",
        "plt.show()\n"
      ],
      "metadata": {
        "colab": {
          "base_uri": "https://localhost:8080/",
          "height": 296
        },
        "id": "ryDu5fGmHkww",
        "outputId": "f7fd8fb0-b860-4a79-a372-e49bdd714329"
      },
      "execution_count": 175,
      "outputs": [
        {
          "output_type": "stream",
          "name": "stdout",
          "text": [
            "SVR(C=0.1, epsilon=0.5, gamma='auto', kernel='linear')\n"
          ]
        },
        {
          "output_type": "display_data",
          "data": {
            "text/plain": [
              "<Figure size 432x288 with 1 Axes>"
            ],
            "image/png": "[encoded data removed]"
          },
          "metadata": {
            "needs_background": "light"
          }
        }
      ]
    },
    {
      "cell_type": "code",
      "source": [
        "append_summary(\"SVR\", y_test, predictions)\n",
        "print(pd.DataFrame(summary))"
      ],
      "metadata": {
        "colab": {
          "base_uri": "https://localhost:8080/"
        },
        "id": "BdyKbDTsIFuF",
        "outputId": "fa956482-1ffe-46d9-add7-0b9877b1900a"
      },
      "execution_count": 174,
      "outputs": [
        {
          "output_type": "stream",
          "name": "stdout",
          "text": [
            "           method  mean_2_error  root_mean_2_error  mean_abs_error  \\\n",
            "0      regression  1.469668e+30       1.212298e+15    1.008890e+15   \n",
            "1  random_forests  3.001583e+01       5.478670e+00    4.153686e+00   \n",
            "2             SVR  3.285435e+01       5.731871e+00    4.432605e+00   \n",
            "3             SVR  3.285435e+01       5.731871e+00    4.432605e+00   \n",
            "\n",
            "             r2  \n",
            "0 -2.213948e+28  \n",
            "1  5.478334e-01  \n",
            "2  5.050731e-01  \n",
            "3  5.050731e-01  \n"
          ]
        }
      ]
    },
    {
      "cell_type": "markdown",
      "source": [
        "## Overall summary:\n",
        "\n",
        "The best regressor algorithm to predict life satisfaction from social media use data  was random forests (min_samples_split=7, n_estimators=150, n_jobs=-1, random_state=1234.)"
      ],
      "metadata": {
        "id": "FZ7_BO61OlCO"
      }
    }
  ]
}